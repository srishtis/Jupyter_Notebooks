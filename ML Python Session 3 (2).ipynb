{
 "cells": [
  {
   "cell_type": "markdown",
   "metadata": {},
   "source": [
    "<div style=\"display:block\">\n",
    "    <div style=\"width: 20%; display: inline-block; text-align: left;\">\n",
    "        <img src=\"http://upload.wikimedia.org/wikipedia/en/0/0c/Mu_Sigma_Logo.jpg\" style=\"height:75px; margin-left:0px\" />\n",
    "    </div>\n",
    "    <div style=\"width: 59%; display: inline-block\">\n",
    "        <h1  style=\"text-align: center\">ML using Python: Session 3</h1>\n",
    "        <div style=\"width: 100%; text-align: center; display: inline-block;\"><i>Author:</i> <strong>Srishti Saha</strong> </div>\n",
    "    </div>\n",
    "    <div style=\"width: 20%; text-align: right; display: inline-block;\">\n",
    "        <div style=\"width: 100%; text-align: left; display: inline-block;\">\n",
    "            <i>Created: </i>\n",
    "            <time datetime=\"2014-03-10\" pubdate>16th February 2019</time>\n",
    "        </div>\n",
    "    </div>\n",
    "</div>"
   ]
  },
  {
   "cell_type": "markdown",
   "metadata": {},
   "source": [
    "# Topics Covered:\n",
    "\n",
    "\n",
    "## 1. Linear Regression\n",
    "find link here: [Linear Regression](#Linear-Regression)\n",
    "\n",
    "## 2. Logistic Regression\n",
    "find link here: [Logistic Regression](#Logistic-Regression)\n",
    "\n",
    "## 3. Hierarchical Clustering\n",
    "find link here: [Hierarchical Clustering](#Hierarchical-Clustering)"
   ]
  },
  {
   "cell_type": "code",
   "execution_count": 7,
   "metadata": {},
   "outputs": [],
   "source": [
    "import numpy as np\n",
    "import pandas as pd"
   ]
  },
  {
   "cell_type": "markdown",
   "metadata": {},
   "source": [
    "# Regression\n",
    "\n",
    "## Linear Regression"
   ]
  },
  {
   "cell_type": "markdown",
   "metadata": {},
   "source": [
    "Linear Regression is a linear method to model the relationship between a scalar response (or dependent variable) and one or more explanatory variables (or independent variables). \n",
    "\n",
    "Linear regression models are often fitted using the **least squares approach**, but they may also be fitted in other ways, such as by **minimizing the \"lack of fit\" in some other norm (as with least absolute deviations regression)**, or by **minimizing a penalized version of the least squares cost function** as in ridge regression (L2-norm penalty) and lasso (L1-norm penalty)."
   ]
  },
  {
   "cell_type": "markdown",
   "metadata": {},
   "source": [
    "### Linear Regression- OLS \n",
    "OLS or ordinary least squares (OLS) is a type of **linear least squares method** for estimating the unknown parameters in a linear regression model. OLS chooses the parameters of a linear function of a set of explanatory variables by the principle of least squares: minimizing the sum of the squares of the differences between the observed dependent variable (values of the variable being predicted) in the given dataset and those predicted by the linear function.\n",
    "\n",
    "The result of this method is a *best-fit line*. A line of best fit is a straight line that is the best approximation of the given set of data.\n",
    "\n",
    "Additional Reading Material:\n",
    "1. https://people.revoledu.com/kardi/tutorial/Regression/OLS.html\n",
    "2. https://www.varsitytutors.com/hotmath/hotmath_help/topics/line-of-best-fit"
   ]
  },
  {
   "cell_type": "code",
   "execution_count": 14,
   "metadata": {
    "scrolled": true
   },
   "outputs": [
    {
     "name": "stdout",
     "output_type": "stream",
     "text": [
      "[[ 0.03807591  0.05068012  0.06169621 ... -0.00259226  0.01990842\n",
      "  -0.01764613]\n",
      " [-0.00188202 -0.04464164 -0.05147406 ... -0.03949338 -0.06832974\n",
      "  -0.09220405]\n",
      " [ 0.08529891  0.05068012  0.04445121 ... -0.00259226  0.00286377\n",
      "  -0.02593034]\n",
      " ...\n",
      " [ 0.04170844  0.05068012 -0.01590626 ... -0.01107952 -0.04687948\n",
      "   0.01549073]\n",
      " [-0.04547248 -0.04464164  0.03906215 ...  0.02655962  0.04452837\n",
      "  -0.02593034]\n",
      " [-0.04547248 -0.04464164 -0.0730303  ... -0.03949338 -0.00421986\n",
      "   0.00306441]]\n",
      "Coefficients: \n",
      " [ 3.03499549e-01 -2.37639315e+02  5.10530605e+02  3.27736980e+02\n",
      " -8.14131709e+02  4.92814588e+02  1.02848452e+02  1.84606489e+02\n",
      "  7.43519617e+02  7.60951722e+01]\n",
      "Mean squared error: 2004.57\n",
      "Variance score: 0.59\n"
     ]
    }
   ],
   "source": [
    "from sklearn import datasets, linear_model\n",
    "from sklearn.metrics import mean_squared_error, r2_score\n",
    "\n",
    "# Load the diabetes dataset\n",
    "diabetes = datasets.load_diabetes()\n",
    "\n",
    "# Use features\n",
    "diabetes_X = diabetes.data\n",
    "print(diabetes_X)\n",
    "\n",
    "# Split the data into training/testing sets\n",
    "diabetes_X_train = diabetes_X[:-20]\n",
    "diabetes_X_test = diabetes_X[-20:]\n",
    "\n",
    "# Split the targets into training/testing sets\n",
    "diabetes_y_train = diabetes.target[:-20]\n",
    "diabetes_y_test = diabetes.target[-20:]\n",
    "\n",
    "# Create linear regression object\n",
    "regr = linear_model.LinearRegression()\n",
    "\n",
    "# Train the model using the training sets\n",
    "regr.fit(diabetes_X_train, diabetes_y_train)\n",
    "\n",
    "# Make predictions using the testing set\n",
    "diabetes_y_pred = regr.predict(diabetes_X_test)\n",
    "\n",
    "# The coefficients\n",
    "print('Coefficients: \\n', regr.coef_)\n",
    "# The mean squared error\n",
    "print(\"Mean squared error: %.2f\"\n",
    "      % mean_squared_error(diabetes_y_test, diabetes_y_pred))\n",
    "# Explained variance score: 1 is perfect prediction\n",
    "print('Variance score: %.2f' % r2_score(diabetes_y_test, diabetes_y_pred))"
   ]
  },
  {
   "cell_type": "markdown",
   "metadata": {},
   "source": [
    "### Linear Regression- Gradient Descent\n",
    "The linear model targets to get the best-fit regression line to predict the value of y based on the given input value (x). While training the model, the model calculates the cost function which measures the Root Mean Squared error between the predicted value (pred) and true value (y). The model targets to minimize the cost function.\n",
    "\n",
    "Gradient descent is an iterative optimization algorithm to find the minimum of a function. Here that function is our Loss Function.\n",
    "![loss function](https://wiki.mu-sigma.com/muwiki/images/f/f4/Grad_descent.png)\n",
    "\n",
    "We use partial derivative for the Gradient Descent objective! Partial derivatives represents the rate of change of the functions as the variable change. In our case we change values for theta 0 and theta 1 and identifies the rate of change. To apply rate of change values for theta 0 and theta 1, we differentiate with respect to the necessary epoch.\n",
    "This process is done till you achieve minimum loss:\n",
    "![gradient descent](https://wiki.mu-sigma.com/muwiki/images/3/30/Gard_desc2.png)\n",
    "\n",
    "Thus, your gradient descent algorithm in linear regression boils down to:\n",
    "![Gradient Descent algo](https://wiki.mu-sigma.com/muwiki/images/1/19/Final_grad_desc.png)\n",
    "\n",
    "Additional reading material:\n",
    "1. https://towardsdatascience.com/linear-regression-using-gradient-descent-97a6c8700931\n",
    "2. https://towardsdatascience.com/linear-regression-simplified-ordinary-least-square-vs-gradient-descent-48145de2cf76"
   ]
  },
  {
   "cell_type": "code",
   "execution_count": 10,
   "metadata": {},
   "outputs": [],
   "source": [
    "#GRADIENT DESCENT\n",
    "\n",
    "alpha = 0.01 #Step size\n",
    "iterations = 2000 #No. of iterations\n",
    "m = y.size #No. of data points\n",
    "np.random.seed(123) #Set the seed\n",
    "theta = np.random.rand(2) #Pick some random values to start with\n",
    "\n",
    "\n",
    "#GRADIENT DESCENT\n",
    "def gradient_descent(x, y, theta, iterations, alpha):\n",
    "    past_costs = []\n",
    "    past_thetas = [theta]\n",
    "    for i in range(iterations):\n",
    "        prediction = np.dot(x, theta)\n",
    "        error = prediction - y\n",
    "        cost = 1/(2*m) * np.dot(error.T, error)\n",
    "        past_costs.append(cost)\n",
    "        theta = theta - (alpha * (1/m) * np.dot(x.T, error))\n",
    "        past_thetas.append(theta)\n",
    "        \n",
    "    return past_thetas, past_costs\n",
    "\n",
    "#Pass the relevant variables to the function and get the new values back...\n",
    "past_thetas, past_costs = gradient_descent(x, y, theta, iterations, alpha)\n",
    "theta = past_thetas[-1]\n",
    "\n",
    "#Print the results...\n",
    "print(\"Gradient Descent: {:.2f}, {:.2f}\".format(theta[0], theta[1]))"
   ]
  },
  {
   "cell_type": "markdown",
   "metadata": {},
   "source": [
    "### Lasso and Ridge Regression\n",
    "Ridge and Lasso regression are powerful techniques generally used for creating parsimonious models in presence of a ‘large’ number of features. Here ‘large’ can typically mean either of two things:\n",
    "\n",
    "1. Large enough to enhance the tendency of a model to overfit (as low as 10 variables might cause overfitting)\n",
    "2. Large enough to cause computational challenges. With modern systems, this situation might arise in case of millions or billions of features\n",
    "\n",
    "Lasso and Ridge work by penalizing the magnitude of coefficients of features along with minimizing the error between predicted and actual observations. These are called ‘regularization’ techniques. The key difference is in how they assign penalty to the coefficients:\n",
    "\n",
    "**Ridge Regression:**\n",
    "Performs *L2 regularization*, i.e. adds penalty equivalent to square of the magnitude of coefficients\n",
    "Minimization objective = LS Obj + α * (sum of square of coefficients)\n",
    "**Lasso Regression:**\n",
    "Performs *L1 regularization*, i.e. adds penalty equivalent to absolute value of the magnitude of coefficients\n",
    "Minimization objective = LS Obj + α * (sum of absolute value of coefficients)\n",
    "Note that here ‘LS Obj’ refers to ‘least squares objective’, i.e. the linear regression objective without regularization.\n",
    "\n",
    "Reading references:\n",
    "1. https://www.analyticsvidhya.com/blog/2017/06/a-comprehensive-guide-for-linear-ridge-and-lasso-regression/\n",
    "2. https://www.analyticsindiamag.com/ridge-regression-vs-lasso-how-these-2-popular-ml-regularisation-techniques-work/\n",
    "\n",
    "Python tutorial on Lasso and Ridge:\n",
    "https://www.analyticsvidhya.com/blog/2016/01/complete-tutorial-ridge-lasso-regression-python/"
   ]
  },
  {
   "cell_type": "markdown",
   "metadata": {},
   "source": [
    "### Reading Residual Plots\n",
    "Residuals, in the context of regression models, are the difference between the observed value of the target variable (y) and the predicted value (ŷ), e.g. the error of the prediction. The residuals plot shows the difference between residuals on the vertical axis and the dependent variable on the horizontal axis, allowing you to detect regions within the target that may be susceptible to more or less error.\n",
    "\n",
    "A common use of the residuals plot is to analyze the variance of the error of the regressor. If the points are randomly dispersed around the horizontal axis, a linear regression model is usually appropriate for the data; otherwise, a non-linear model is more appropriate."
   ]
  },
  {
   "cell_type": "code",
   "execution_count": 18,
   "metadata": {},
   "outputs": [],
   "source": [
    "import seaborn as sns\n",
    "import matplotlib.pyplot as plt"
   ]
  },
  {
   "cell_type": "code",
   "execution_count": 22,
   "metadata": {},
   "outputs": [
    {
     "data": {
      "text/plain": [
       "array([197.61846908, 155.43979328, 172.88665147, 111.53537279,\n",
       "       164.80054784, 131.06954875, 259.12237761, 100.47935157,\n",
       "       117.0601052 , 124.30503555, 218.36632793,  61.19831284,\n",
       "       132.25046751, 120.3332925 ,  52.54458691, 194.03798088,\n",
       "       102.57139702, 123.56604987, 211.0346317 ,  52.60335674])"
      ]
     },
     "execution_count": 22,
     "metadata": {},
     "output_type": "execute_result"
    }
   ],
   "source": [
    "diabetes_y_pred"
   ]
  },
  {
   "cell_type": "code",
   "execution_count": 20,
   "metadata": {},
   "outputs": [
    {
     "data": {
      "text/plain": [
       "Text(0, 0.5, 'Residuals')"
      ]
     },
     "execution_count": 20,
     "metadata": {},
     "output_type": "execute_result"
    },
    {
     "data": {
      "image/png": "[encoded data removed]",
      "text/plain": [
       "<Figure size 864x576 with 1 Axes>"
      ]
     },
     "metadata": {
      "needs_background": "light"
     },
     "output_type": "display_data"
    }
   ],
   "source": [
    "plot_lm_1 = plt.figure(1)\n",
    "plot_lm_1.set_figheight(8)\n",
    "plot_lm_1.set_figwidth(12)\n",
    "\n",
    "plot_lm_1.axes[0] = sns.residplot(diabetes_y_pred, diabetes_y_test, \n",
    "                          lowess=True, \n",
    "                          scatter_kws={'alpha': 0.5}, \n",
    "                          line_kws={'color': 'red', 'lw': 1, 'alpha': 0.8})\n",
    "\n",
    "\n",
    "plot_lm_1.axes[0].set_title('Residuals vs Fitted')\n",
    "plot_lm_1.axes[0].set_xlabel('Fitted values')\n",
    "plot_lm_1.axes[0].set_ylabel('Residuals')\n",
    "\n"
   ]
  },
  {
   "cell_type": "markdown",
   "metadata": {},
   "source": [
    "Residuals are defined as the difference between the predicted and the actual values. \n",
    "\n",
    "**Residual = Observed – Predicted**\n",
    "\n",
    "The residual plot shows if residuals have non-linear patterns. There could be a non-linear relationship between predictor variables and an outcome variable and the pattern could show up in this plot if the model doesn’t capture the non-linear relationship. If you find equally spread residuals around a horizontal line without distinct patterns, that is a good indication you don’t have unexplained non-linear relationships.\n",
    "\n",
    "Ideally, this plot shouldn’t show any pattern. But if you see any shape (curve, U shape), it suggests non-linearity in the data set. In addition, if you see a funnel shape pattern, it suggests your data is suffering from heteroskedasticity, i.e. the error terms have non-constant variance.\n",
    "\n",
    "*Our residual plot here shows a trend with a U-like shape. Clearly, this indicates the model can be improved*\n",
    "\n",
    "Some important trends and pointers on a residual plot:\n",
    "1. **Points skewed across the Y-axis**\n",
    "![Residual 1](https://wiki.mu-sigma.com/muwiki/images/9/92/Resid1.png)\n",
    "\n",
    "**What it means**\n",
    "The first plot (Predicted vs Actuals) shows us that the model in question here gives a lot of high predictions (for low actual values) while a few of the predictions are too low (the red and the yellow dots). On converting this into a residual plot, we see a skew on the positive scale of the Y-axis indicating high residuals for a few predictions. Some other predictions are way too low.\n",
    "\n",
    "**How do we treat this?**\n",
    "These residual plots normally mean you should either 1) transform the response variable to change the scale/ distribution of the same or 2) add more features that can explain the variance in your response variable to reduce errors (residuals) in predictions. \n",
    "\n",
    "2. **Funnel shaped plots**\n",
    "![Residual 2](https://wiki.mu-sigma.com/muwiki/images/3/34/Resid2.png)\n",
    "\n",
    "**What it means**\n",
    "These plots exhibit “heteroscedasticity”, meaning that the residuals get larger as the prediction moves from small to large (or from large to small). This also means that the explained variance by the independent variables varies with the range of values of the response variable. In other words, your residuals are not normally distributed.\n",
    "\n",
    "**How do we treat this?**\n",
    "Heteroscedasticity often indicates the lack of a significant predictor variable in the dataset or the need for variable transformation. You should thus try the same suggestions as given above.\n",
    "\n",
    "3. **Non-linear or U-shaped curves**\n",
    "![Residual 3](https://wiki.mu-sigma.com/muwiki/images/4/48/Resid3.png)\n",
    "\n",
    "**What it means**\n",
    "These plots should correspond to a low r-squared value and an inaccurate model. It basically means that the current model (linear model) is unable to describe the non-linear patterns of the data.\n",
    "\n",
    "**How do we treat this?**\n",
    "A. Create a non-linear model (instead of a linear model)\n",
    "B. Better feature-engineering (with polynomial features) should help\n",
    "C. Transformation of the variables is another suggestion\n",
    "\n",
    "\n",
    "References:\n",
    "1. http://docs.statwing.com/interpreting-residual-plots-to-improve-your-regression/#outlier-header\n",
    "\n",
    "Additional Reading Material:\n",
    "1. https://www.hackerearth.com/blog/machine-learning/beginners-guide-regression-analysis-plot-interpretations/\n",
    "2. Other diagnostic plots: https://data.library.virginia.edu/diagnostic-plots/\n",
    "3. https://www.statsmodels.org/devel/examples/notebooks/generated/regression_plots.html\n",
    "4. Implementation in Python: https://medium.com/@emredjan/emulating-r-regression-plots-in-python-43741952c034"
   ]
  },
  {
   "cell_type": "markdown",
   "metadata": {},
   "source": [
    "# Classification (Supervised)\n",
    "\n",
    "## Logistic Regression"
   ]
  },
  {
   "cell_type": "markdown",
   "metadata": {},
   "source": [
    "A classification problem when independent variables are continuous in nature and dependent variable is in categorical form i.e. in classes like positive class and negative class.\n",
    "\n",
    "Logistic Regression uses Sigmoid function. It is effective as it can deal well with outliers. The logistic function is a Sigmoid function, which takes any real value between zero and one. It is defined as:\n",
    "*1/(1+e^(-t))*\n",
    "\n",
    "If 't' as linear function in a univariate regression model of the form: *βo+ β1*x*;\n",
    "the above logistic equation assumes this value of 't' and takes care of outliers when it encouters one.\n",
    "\n",
    "To classify data into positive and negative classes, it uses the concept of decision boundary. A decsioon boundary can be linear or non-linear.\n",
    "![Sigmoid](https://wiki.mu-sigma.com/muwiki/images/b/b6/Sigmoid.png)\n",
    "\n",
    "**Gradient Descent in Logistic Regression**\n",
    "In classification (using logistic regr.), the loss function is log loss. Log loss, short for logarithmic loss is a loss function for classification that quantifies the price paid for the inaccuracy of predictions in classification problems. Log loss penalizes false classifications by taking into account the probability of classification.\n",
    "\n",
    "*Please note: The generic form of log loss is cross entropy. Cross entropy can be used for multi-class classification. Log Loss is defined for binary classification*\n",
    "\n",
    "The objective of gradient descent in classification is to minimize this loss function.\n",
    "\n",
    "Additional Reading Material:\n",
    "1. https://medium.com/technology-nineleaps/logistic-regression-gradient-descent-optimization-part-1-ed320325a67e\n",
    "2. https://medium.com/datadriveninvestor/understanding-the-log-loss-function-of-xgboost-8842e99d975d\n",
    "3. https://scikit-learn.org/stable/modules/generated/sklearn.linear_model.LogisticRegression.html\n",
    "4. https://machinelearningmastery.com/logistic-regression-for-machine-learning/"
   ]
  },
  {
   "cell_type": "code",
   "execution_count": 38,
   "metadata": {},
   "outputs": [],
   "source": [
    "from sklearn.linear_model import LogisticRegression\n",
    "from sklearn import metrics\n",
    "from sklearn.metrics import confusion_matrix\n",
    "from sklearn.metrics import roc_curve\n",
    "from sklearn.metrics import classification_report\n",
    "\n",
    "#split your dataset\n",
    "X_train, X_test, y_train, y_test = train_test_split(X, y, test_size=0.3, random_state=0)\n",
    "\n",
    "#build the model\n",
    "logreg = LogisticRegression()\n",
    "logreg.fit(X_train, y_train)\n",
    "#use the above model to predict classes directly\n",
    "y_pred = logreg.predict(X_test)\n",
    "\n",
    "# for predicting probabilities: use predict_proba(X)\n",
    "# for predicting Log of probability estimates: use predict_log_proba(X)\n",
    "\n",
    "#accuracy and performance metrics\n",
    "acc=logreg.score(X_test, y_test)"
   ]
  },
  {
   "cell_type": "markdown",
   "metadata": {},
   "source": [
    "Package documentation:\n",
    "https://scikit-learn.org/stable/modules/generated/sklearn.linear_model.LogisticRegression.html"
   ]
  },
  {
   "cell_type": "markdown",
   "metadata": {},
   "source": [
    "### Confusion matrix (for binary classification) and related metrics\n",
    "The confusion matrix is another metric that is often used to measure the performance of a classification algorithm. \n",
    "![Confusion Matrix](https://wiki.mu-sigma.com/muwiki/images/1/15/Conf_matrix.png)\n",
    "\n",
    "The predicted classes are represented in the columns of the matrix, whereas the actual classes are in the rows of the matrix. We then have four cases:\n",
    "\n",
    "1. True positives (TP): the cases for which the classifier predicted ‘spam’ and the emails were actually spam.\n",
    "2. True negatives (TN): the cases for which the classifier predicted ‘not spam’ and the emails were actually real.\n",
    "3. False positives (FP): the cases for which the classifier predicted ‘spam’ but the emails were actually real.\n",
    "4. False negatives (FN): the cases for which the classifier predicted ‘not spam’ but the emails were actually spam.\n",
    "In order to avoid confusion, note the following. ‘True’ or ‘false’ indicate if the classifier predicted the class correctly, whereas ‘positive’ or ‘negative’ indicate if the classifier predicted the desired class \n",
    "\n",
    "The key metrics derived from here are:\n",
    "1. Sensitivity or Recall (True Positive Rate)= TP/(TP+FN)\n",
    "2. Specificty (True Negative Rate)= TN/(TN+FP)\n",
    "3. Precision= TP/(TP+FP)\n",
    "4. Negative Prediction Value= TN/(TN+FN)\n",
    "5. Fall-out or False Positive Rate= FP/(FP+TN)\n",
    "6. F1-score: harmonic mean of precision and sensitivity= 2xTP/(FP+FN+2xTP)\n",
    "7. Accuracy= (TP+TN)/(TP+TN+FP+FN)\n",
    "\n",
    "Additional reading material:\n",
    "1. https://medium.com/greyatom/performance-metrics-for-classification-problems-in-machine-learning-part-i-b085d432082b"
   ]
  },
  {
   "cell_type": "code",
   "execution_count": null,
   "metadata": {},
   "outputs": [],
   "source": [
    "confusion_matrix = confusion_matrix(y_test, y_pred)\n",
    "print(classification_report(y_test, y_pred))"
   ]
  },
  {
   "cell_type": "markdown",
   "metadata": {},
   "source": [
    "### ROC curve and AUC\n",
    "Receiver Operating Characteristic (ROC) metric is used to evaluate classifier output quality. ROC curves typically feature *true positive rate* on the Y axis, and *false positive rate* on the X axis. This means that the top left corner of the plot is the “ideal” point - a false positive rate of zero, and a true positive rate of one. This is not very realistic, but it does mean that **a larger area under the curve (AUC) is usually better.**\n",
    "\n",
    "The “steepness” of ROC curves is also important, since it is ideal to maximize the true positive rate while minimizing the false positive rate.\n",
    "\n",
    "![ROC curve](https://wiki.mu-sigma.com/muwiki/images/0/00/Roc.png)"
   ]
  },
  {
   "cell_type": "code",
   "execution_count": null,
   "metadata": {},
   "outputs": [],
   "source": [
    "# calculate roc curve\n",
    "fpr, tpr, thresholds = roc_curve(y_test,  y_pred_proba)\n",
    "\n",
    "# calculate AUC\n",
    "auc = roc_auc_score(y_test,  y_pred_proba)\n",
    "print('AUC: %.3f' % auc)"
   ]
  },
  {
   "cell_type": "markdown",
   "metadata": {},
   "source": [
    "Like the *roc_curve()* function, the AUC function takes both the true outcomes (0,1) from the test set and the predicted probabilities for the 1 class. It returns the AUC score between 0.0 and 1.0 for no skill and perfect skill respectively."
   ]
  },
  {
   "cell_type": "markdown",
   "metadata": {},
   "source": [
    "Package documentation:\n",
    "https://scikit-learn.org/stable/modules/generated/sklearn.metrics.roc_curve.html#sklearn.metrics.roc_curve"
   ]
  },
  {
   "cell_type": "markdown",
   "metadata": {},
   "source": [
    "### Precision-Recall Curves\n",
    "A precision-recall curve shows the relationship between precision (= positive predictive value) and recall (= sensitivity) for every possible cut-off. The PRC is a graph with: \n",
    "\n",
    "• The **x-axis showing recall** (= sensitivity = TP / (TP + FN)) \n",
    "• The **y-axis showing precision** (= positive predictive value = TP / (TP + FP))\n",
    "\n",
    "Thus every point on the PRC represents a chosen cut-off even though you cannot see this cut-off. What you can see is the precision and the recall that you will get when you choose this cut-off.\n",
    "\n",
    "![PR Curve](https://wiki.mu-sigma.com/muwiki/images/7/7a/PRC.png)"
   ]
  },
  {
   "cell_type": "code",
   "execution_count": null,
   "metadata": {},
   "outputs": [],
   "source": [
    "# calculate precision-recall curve\n",
    "precision, recall, thresholds = precision_recall_curve(y_test, y_pred_proba)"
   ]
  },
  {
   "cell_type": "markdown",
   "metadata": {},
   "source": [
    "**When to use ROC curves and Precision Recall curves**\n",
    "\n",
    "Generally, the use of ROC curves and precision-recall curves are as follows:\n",
    "\n",
    "ROC curves should be used when there are roughly equal numbers of observations for each class.\n",
    "Precision-Recall curves should be used when there is a moderate to large class imbalance.\n",
    "\n",
    "Additional reading material:\n",
    "1. https://machinelearningmastery.com/roc-curves-and-precision-recall-curves-for-classification-in-python/\n",
    "2. https://acutecaretesting.org/en/articles/precision-recall-curves-what-are-they-and-how-are-they-used"
   ]
  },
  {
   "cell_type": "markdown",
   "metadata": {},
   "source": [
    "# Clustering"
   ]
  },
  {
   "cell_type": "markdown",
   "metadata": {},
   "source": [
    "## Hierarchical Clustering\n",
    "Clustering is a type of multivariate statistical analysis also known as cluster analysis or unsupervised classification analysis. It is based on a mathematical formulation of a measure of similarity.\n",
    "\n",
    "Hierarchical clustering takes the idea of clustering a step further and imposes an ordering on the clusters themselves. It is the hierarchical decomposition of the data based on group similarities, which is often represented in a Dendogram.\n",
    "\n",
    "There are two top-level methods for finding these hierarchical clusters:\n",
    "\n",
    "**Agglomerative clustering** uses a bottom-up approach, wherein each data point starts in its own cluster. These clusters are then joined greedily, by taking the two most similar clusters together and merging them.\n",
    "**Divisive clustering** uses a top-down approach, wherein all data points start in the same cluster. You can then use a parametric clustering algorithm like K-Means to divide the cluster into two clusters. For each cluster, you further divide it down to two clusters until you hit the desired number of clusters.\n",
    "Both of these approaches rely on constructing a *similarity matrix* between all of the data points.\n",
    "\n",
    "Let use see how to read a dendogram."
   ]
  },
  {
   "cell_type": "code",
   "execution_count": 11,
   "metadata": {},
   "outputs": [],
   "source": [
    "from matplotlib import pyplot as plt\n",
    "from scipy.cluster.hierarchy import dendrogram, linkage"
   ]
  },
  {
   "cell_type": "code",
   "execution_count": 18,
   "metadata": {},
   "outputs": [],
   "source": [
    "#random data generation\n",
    "X = np.array([[5,3],  \n",
    "    [10,15],\n",
    "    [15,12],\n",
    "    [24,10],\n",
    "    [30,30],\n",
    "    [85,70],\n",
    "    [71,80],\n",
    "    [60,78],\n",
    "    [70,55],\n",
    "    [80,91],])"
   ]
  },
  {
   "cell_type": "code",
   "execution_count": 19,
   "metadata": {},
   "outputs": [
    {
     "name": "stdout",
     "output_type": "stream",
     "text": [
      "Graph 1:\n"
     ]
    },
    {
     "data": {
      "image/png": "[encoded data removed]",
      "text/plain": [
       "<Figure size 720x504 with 1 Axes>"
      ]
     },
     "metadata": {
      "needs_background": "light"
     },
     "output_type": "display_data"
    }
   ],
   "source": [
    "#representing data points in a scatter plot\n",
    "labels = range(1, 11)  \n",
    "plt.figure(figsize=(10, 7))  \n",
    "plt.subplots_adjust(bottom=0.1)  \n",
    "plt.scatter(X[:,0],X[:,1], label='True Position')\n",
    "print(\"Graph 1:\")\n",
    "for label, x, y in zip(labels, X[:, 0], X[:, 1]):  \n",
    "    plt.annotate(\n",
    "        label,\n",
    "        xy=(x, y), xytext=(-3, 3),\n",
    "        textcoords='offset points', ha='right', va='bottom')\n",
    "plt.show()  "
   ]
  },
  {
   "cell_type": "code",
   "execution_count": 20,
   "metadata": {},
   "outputs": [
    {
     "name": "stdout",
     "output_type": "stream",
     "text": [
      "Graph 2:\n"
     ]
    },
    {
     "data": {
      "image/png": "[encoded data removed]",
      "text/plain": [
       "<Figure size 720x504 with 1 Axes>"
      ]
     },
     "metadata": {
      "needs_background": "light"
     },
     "output_type": "display_data"
    }
   ],
   "source": [
    "# creating the dendogram\n",
    "linked = linkage(X, 'single')\n",
    "\n",
    "labelList = range(1, 11)\n",
    "print(\"Graph 2:\")\n",
    "plt.figure(figsize=(10, 7))  \n",
    "dendrogram(linked,  \n",
    "            orientation='top',\n",
    "            labels=labelList,\n",
    "            distance_sort='descending',\n",
    "            show_leaf_counts=True)\n",
    "plt.show()  "
   ]
  },
  {
   "cell_type": "markdown",
   "metadata": {},
   "source": [
    "The algorithm starts by finding the two points that are closest to each other on the basis of *Euclidean distance*. (You can choose the distance metric). If we look back at Graph1, we can see that points 2 and 3 are closest to each other while points 7 and 8 are closes to each other. Therefore a cluster will be formed between these two points first. In Graph2, you can see that the dendograms have been created joining points 2 with 3, and 8 with 7. **The vertical height of the dendogram shows the Euclidean distances between points.** From Graph2, it can be seen that Euclidean distance between points 8 and 7 is greater than the distance between point 2 and 3.\n",
    "\n",
    "The next step is to join the cluster formed by joining two points to the next nearest cluster or point which in turn results in another cluster. If you look at Graph1, point 4 is closest to cluster of point 2 and 3, therefore in Graph2 dendrogram is generated by joining point 4 with dendrogram of point 2 and 3. This process continues until all the points are joined together to form one big cluster.\n",
    "\n",
    "Once one big cluster is formed, the longest vertical distance without any horizontal line passing through it is selected and a horizontal line is drawn through it. "
   ]
  },
  {
   "cell_type": "markdown",
   "metadata": {},
   "source": [
    "### Implementing Hierarchical clustering in Python (scikit)"
   ]
  },
  {
   "cell_type": "markdown",
   "metadata": {},
   "source": [
    "**Pseudocode for Hierarchical Clustering**\n",
    "1. Compute the distance matrix between each input data points.\n",
    "2. Consider each data point as a cluster.\n",
    "3. Repeat :\n",
    "        A. Merge two closest clusters.\n",
    "        B. Update the distance matrix.\n",
    "4. Repeat step 3 until one single cluster remains.\n",
    "\n",
    "**Some Important parameters to play around with**\n",
    "\n",
    "*Linkage*\n",
    "There are multiple methods to measure the distance between two clusters (i.e. linkage):\n",
    "1. Single link distance (minimum or closest) \n",
    "2. Complete link distance (maximum)\n",
    "3. Average link distance\n",
    "4. Centroid distance (distance between centroids)\n",
    "5. Ward’s distance\n",
    "\n",
    "Additional reading material:\n",
    "1. https://stepupanalytics.com/hierarchical-clustering-using-python-scipy/\n",
    "2. https://www.dummies.com/programming/big-data/data-science/data-science-performing-hierarchical-clustering-with-python/\n",
    "\n",
    "*Distance*\n",
    "There are multiple distance calculating metrics. Some common ones are:\n",
    "1. Euclidean (l1)\n",
    "2. Manhattan (l2)\n",
    "3. Cosine"
   ]
  },
  {
   "cell_type": "code",
   "execution_count": 32,
   "metadata": {},
   "outputs": [],
   "source": [
    "from sklearn.cluster import AgglomerativeClustering\n",
    "from sklearn.cluster import KMeans\n",
    "from sklearn.datasets import load_iris"
   ]
  },
  {
   "cell_type": "code",
   "execution_count": 33,
   "metadata": {},
   "outputs": [],
   "source": [
    "# load iris dataset\n",
    "iris = load_iris()\n",
    "X = pd.DataFrame(iris.data, columns=iris['feature_names'])\n",
    "#print(X)\n",
    "data = X[['sepal length (cm)', 'sepal width (cm)', 'petal length (cm)']]"
   ]
  },
  {
   "cell_type": "markdown",
   "metadata": {},
   "source": [
    "**How to decide on number of clusters**\n",
    "\n",
    "You can use several methods to arrive at the appropriate 'height' (h) or 'number of clusters' (k) for hierarchical clustering.\n",
    "\n",
    "One popular method is the *elbow plot.* This uses k-means clustering on the dataset for a range of values of k (say, k from 1 to 10 in the examples above), and for each value of k calculate the sum of squared errors (SSE).\n",
    "\n",
    "The idea is that we want a small SSE, but that the SSE tends to decrease toward 0 as we increase k (the SSE is 0 when k is equal to the number of data points in the dataset, because then each data point is its own cluster, and there is no error between it and the center of its cluster). So our goal is to choose a small value of k that still has a low SSE, and the elbow usually represents where we start to have diminishing returns by increasing k.\n"
   ]
  },
  {
   "cell_type": "code",
   "execution_count": 36,
   "metadata": {},
   "outputs": [
    {
     "data": {
      "image/png": "[encoded data removed]",
      "text/plain": [
       "<Figure size 432x288 with 1 Axes>"
      ]
     },
     "metadata": {
      "needs_background": "light"
     },
     "output_type": "display_data"
    }
   ],
   "source": [
    "sse = {}\n",
    "for k in range(1, 10):\n",
    "    kmeans = KMeans(n_clusters=k, max_iter=1000).fit(X)\n",
    "    X[\"clusters\"] = kmeans.labels_\n",
    "    #print(data[\"clusters\"])\n",
    "    sse[k] = kmeans.inertia_ # Inertia: Sum of distances of samples to their closest cluster center\n",
    "plt.figure()\n",
    "plt.plot(list(sse.keys()), list(sse.values()))\n",
    "plt.xlabel(\"Number of cluster\")\n",
    "plt.ylabel(\"SSE\")\n",
    "plt.show()\n"
   ]
  },
  {
   "cell_type": "code",
   "execution_count": 35,
   "metadata": {},
   "outputs": [
    {
     "data": {
      "text/plain": [
       "array([1, 1, 1, 1, 1, 1, 1, 1, 1, 1, 1, 1, 1, 1, 1, 1, 1, 1, 1, 1, 1, 1,\n",
       "       1, 1, 1, 1, 1, 1, 1, 1, 1, 1, 1, 1, 1, 1, 1, 1, 1, 1, 1, 1, 1, 1,\n",
       "       1, 1, 1, 1, 1, 1, 0, 0, 0, 2, 0, 2, 0, 2, 0, 2, 2, 2, 2, 0, 2, 0,\n",
       "       2, 2, 2, 2, 0, 2, 0, 0, 2, 0, 0, 0, 0, 2, 2, 2, 2, 0, 2, 0, 0, 2,\n",
       "       2, 2, 2, 0, 2, 2, 2, 2, 2, 2, 2, 2, 0, 0, 0, 0, 0, 0, 2, 0, 0, 0,\n",
       "       0, 0, 0, 0, 0, 0, 0, 0, 0, 0, 0, 0, 0, 0, 0, 0, 0, 0, 0, 0, 0, 0,\n",
       "       0, 0, 0, 0, 0, 0, 0, 0, 0, 0, 0, 0, 0, 0, 0, 0, 0, 0])"
      ]
     },
     "execution_count": 35,
     "metadata": {},
     "output_type": "execute_result"
    }
   ],
   "source": [
    "cluster = AgglomerativeClustering(n_clusters=3, affinity='euclidean', linkage='ward')  \n",
    "cluster.fit_predict(data) "
   ]
  },
  {
   "cell_type": "markdown",
   "metadata": {},
   "source": [
    "Two arguments you can play around with are:\n",
    "\n",
    "**Linkage** : {“ward”, “complete”, “average”, “single”}, optional (default=”ward”)\n",
    "Which linkage criterion to use. The linkage criterion determines which distance to use between sets of observation. The algorithm will merge the pairs of cluster that minimize this criterion.\n",
    "\n",
    "*Please Note:*\n",
    "1. ward minimizes the variance of the clusters being merged.\n",
    "2. average uses the average of the distances of each observation of the two sets.\n",
    "3. complete or maximum linkage uses the maximum distances between all observations of the two sets.\n",
    "4. single uses the minimum of the distances between all observations of the two sets.\n",
    "\n",
    "**affinity**: Metric used to compute the linkage. Can be “euclidean”, “l1”, “l2”, “manhattan”, “cosine”, or ‘precomputed’. If linkage is “ward”, only “euclidean” is accepted."
   ]
  },
  {
   "cell_type": "code",
   "execution_count": 22,
   "metadata": {},
   "outputs": [
    {
     "name": "stdout",
     "output_type": "stream",
     "text": [
      "[1 1 1 1 1 0 0 0 0 0]\n"
     ]
    }
   ],
   "source": [
    "print(cluster.labels_) "
   ]
  },
  {
   "cell_type": "markdown",
   "metadata": {},
   "source": [
    "Package Documentation:\n",
    "https://scikit-learn.org/stable/modules/generated/sklearn.cluster.AgglomerativeClustering.html    \n",
    "\n",
    "Additional Reading Material:\n",
    "1. https://joernhees.de/blog/2015/08/26/scipy-hierarchical-clustering-and-dendrogram-tutorial/\n",
    "2. https://stackabuse.com/hierarchical-clustering-with-python-and-scikit-learn/"
   ]
  },
  {
   "cell_type": "markdown",
   "metadata": {},
   "source": [
    "### How to evaluate clusters"
   ]
  },
  {
   "cell_type": "markdown",
   "metadata": {},
   "source": [
    "Evaluation of clusters is not as simple as evaluating the segments from a classification model. In particular any evaluation metric should not take the absolute values of the cluster labels into account but rather if this clustering define separations of the data similar to some ground truth set of classes or satisfying some assumption such that members belong to the same class are more similar that members of different classes according to some similarity metric.\n",
    "\n",
    "Some commonly used metrics used to evaluate clusters are:\n",
    "1. Adjusted Rand Index\n",
    "2. Silhouette Coefficient\n",
    "3. Adjusted Mutual Information Score/ Normalized Mutual Information Score\n",
    "\n",
    "There are several other measures as well which you can study here: https://scikit-learn.org/stable/modules/clustering.html#clustering-performance-evaluation"
   ]
  },
  {
   "cell_type": "markdown",
   "metadata": {},
   "source": [
    "#### Adjusted Rand Index\n",
    "*Rand Index* is a measure of the similarity between two data clusterings. Say, you have an external classifying criterion (reliable) and you want to compare your clustering model against the same, or when you want to compare results from 2 clustering models, Rand Index can help you do that:\n",
    "\n",
    "Say you have two sets of clustering results mapped to your dataset S: X= {X1, X2,...Xr} and Y= {Y1, Y2,...,Ys}. There are 4 possible outcomes:\n",
    "1. a, the number of pairs of elements in S that are in the same subset in X and in the same subset in Y\n",
    "2. b, the number of pairs of elements in S that are in different subsets in X and in different subsets in Y\n",
    "3. c, the number of pairs of elements in S that are in the same subset in X and in different subsets in Y\n",
    "4. d, the number of pairs of elements in S that are in different subsets in X and in the same subset in Y\n",
    "\n",
    "Then, the Rand Index is:\n",
    "![Rand Index](https://wiki.mu-sigma.com/muwiki/images/0/07/Rand_ind.png)\n",
    "where n-> total number of records. Here, *a+b are he number of agreements* and *c+d are the number of disagreements* among X and Y.\n",
    "\n",
    "However, the Rand Index has a few flaws. The expected value of the Rand index of two random partitions does\n",
    "not take a constant value (say zero).\n",
    "\n",
    "The adjusted Rand Index takes into the possibility of randomness and the formula looks like the following:\n",
    "![ARI1](https://wiki.mu-sigma.com/muwiki/images/1/1f/ARI1.png)\n",
    "This can also be represented as:\n",
    "![ARI2](https://wiki.mu-sigma.com/muwiki/images/f/f2/ARI2.png)\n",
    "\n",
    "Let's also cover the **contingency table** for the same:\n",
    "A contingency table (also known as a cross tabulation or crosstab) is a type of table in a matrix format that displays the (multivariate) frequency distribution of the variables. It is used in clustering to check for association rules.\n",
    "(Additional reading: https://en.wikipedia.org/wiki/Contingency_table)\n",
    "For our example, it looks like this:\n",
    "![contingency table](https://wiki.mu-sigma.com/muwiki/images/9/94/Contingency_table.png)\n",
    "\n",
    "Given the knowledge of the ground truth class assignments *labels_true* and our clustering algorithm assignments of the same samples *labels_pred*, the adjusted Rand index is a function that measures the similarity of the two assignments, ignoring permutations and with chance normalization:"
   ]
  },
  {
   "cell_type": "code",
   "execution_count": 23,
   "metadata": {},
   "outputs": [],
   "source": [
    "from sklearn import metrics"
   ]
  },
  {
   "cell_type": "code",
   "execution_count": 24,
   "metadata": {},
   "outputs": [
    {
     "data": {
      "text/plain": [
       "0.24242424242424246"
      ]
     },
     "execution_count": 24,
     "metadata": {},
     "output_type": "execute_result"
    }
   ],
   "source": [
    "labels_true = [0, 0, 0, 1, 1, 1]\n",
    "labels_pred = [0, 0, 1, 1, 2, 2]\n",
    "\n",
    "#obtain the ARI\n",
    "metrics.adjusted_rand_score(labels_true, labels_pred)"
   ]
  },
  {
   "cell_type": "code",
   "execution_count": 25,
   "metadata": {},
   "outputs": [
    {
     "name": "stdout",
     "output_type": "stream",
     "text": [
      "Perfect labelling ARI: 1.0\n",
      "Independent labelling ARI: -0.12903225806451613\n"
     ]
    }
   ],
   "source": [
    "#Perfect labeling is scored 1.0\n",
    "######################################## Example ###############################################\n",
    "labels_pred = labels_true[:]\n",
    "print( 'Perfect labelling ARI:',metrics.adjusted_rand_score(labels_true, labels_pred))\n",
    "\n",
    "#Bad (e.g. independent labelings) have negative or close to 0.0 scores\n",
    "######################################## Example ###############################################\n",
    "labels_true = [0, 1, 2, 0, 3, 4, 5, 1]\n",
    "labels_pred = [1, 1, 0, 0, 2, 2, 2, 2]\n",
    "print('Independent labelling ARI:',metrics.adjusted_rand_score(labels_true, labels_pred))"
   ]
  },
  {
   "cell_type": "markdown",
   "metadata": {},
   "source": [
    "**Advantages**\n",
    "Random (uniform) label assignments have a ARI score close to 0.0 for any value of n_clusters and n_samples (which is not the case for raw Rand index or the V-measure for instance).\n",
    "Bounded range [-1, 1]: negative values are bad (independent labelings), similar clusterings have a positive ARI, 1.0 is the perfect match score.\n",
    "No assumption is made on the cluster structure: can be used to compare clustering algorithms such as k-means which assumes isotropic blob shapes with results of spectral clustering algorithms which can find cluster with “folded” shapes.\n",
    "The adjusted_rand_score is symmetric: swapping the argument does not change the score. It can thus be used as a consensus measure\n",
    "\n",
    "**Drawbacks**\n",
    "Contrary to inertia, ARI requires knowledge of the ground truth classes while is almost never available in practice or requires manual assignment by human annotators (as in the supervised learning setting).\n",
    "\n",
    "Additional Reading Material:\n",
    "http://faculty.washington.edu/kayee/pca/supp.pdf"
   ]
  },
  {
   "cell_type": "markdown",
   "metadata": {},
   "source": [
    "#### Silhouette Score\n",
    "One drawback of the Rand Index is that you might need the ground truth or a reliable reference. Since you cannot get the ground reality most of the times, we have an alternate metric. \n",
    "\n",
    "The Silhouette Coefficient is an example of such an evaluation, where a higher Silhouette Coefficient score relates to a model with better defined clusters. The Silhouette Coefficient is defined for each sample and is composed of two scores:\n",
    "\n",
    "a: The mean distance between a sample and all other points in the same class.\n",
    "b: The mean distance between a sample and all other points in the next nearest cluster.\n",
    "The Silhouette Coefficient 's' for a single sample is then given as:\n",
    "![Sil Index](https://wiki.mu-sigma.com/muwiki/images/6/6f/Sil_ind.png)\n",
    "\n",
    "Hence, silhouette coefficient can range in values between :\n",
    "**-1<=s<=1**\n",
    "\n",
    "For *'s'* to be close to 1 we require *'a<<b'*. As *'a'* is a measure of how dissimilar a point *'i'* is to its own cluster, a small value of 'a' means it is well matched. Furthermore, a large *'b'* implies that *'i'* is badly matched to its neighbouring cluster. **Thus an *'s'* close to one means that the data is appropriately clustered**. \n",
    "\n",
    "If *'s'* is close to negative one, then by the same logic we see that *'i'* would be more appropriate if it was clustered in its neighbouring cluster. \n",
    "\n",
    "An *'s'* near zero means that the datum is on the border of two natural clusters."
   ]
  },
  {
   "cell_type": "code",
   "execution_count": 28,
   "metadata": {},
   "outputs": [],
   "source": [
    "from sklearn.metrics import pairwise_distances\n",
    "from sklearn import datasets\n",
    "from sklearn.cluster import KMeans"
   ]
  },
  {
   "cell_type": "code",
   "execution_count": 27,
   "metadata": {},
   "outputs": [],
   "source": [
    "dataset = datasets.load_iris()\n",
    "X = dataset.data\n",
    "y = dataset.target"
   ]
  },
  {
   "cell_type": "code",
   "execution_count": 29,
   "metadata": {},
   "outputs": [
    {
     "data": {
      "text/plain": [
       "0.5525919445213676"
      ]
     },
     "execution_count": 29,
     "metadata": {},
     "output_type": "execute_result"
    }
   ],
   "source": [
    "kmeans_model = KMeans(n_clusters=3, random_state=1).fit(X)\n",
    "labels = kmeans_model.labels_\n",
    "\n",
    "# obtain the silhouette score\n",
    "metrics.silhouette_score(X, labels, metric='euclidean')"
   ]
  },
  {
   "cell_type": "markdown",
   "metadata": {},
   "source": [
    "**Advantages**\n",
    "The score is bounded between -1 for incorrect clustering and +1 for highly dense clustering. Scores around zero indicate overlapping clusters.\n",
    "The score is higher when clusters are dense and well separated, which relates to a standard concept of a cluster.\n",
    "\n",
    "\n",
    "**Drawbacks**\n",
    "The Silhouette Coefficient is generally higher for convex clusters than other concepts of clusters, such as density based clusters like those obtained through DBSCAN."
   ]
  }
 ],
 "metadata": {
  "kernelspec": {
   "display_name": "Python 3",
   "language": "python",
   "name": "python3"
  },
  "language_info": {
   "codemirror_mode": {
    "name": "ipython",
    "version": 3
   },
   "file_extension": ".py",
   "mimetype": "text/x-python",
   "name": "python",
   "nbconvert_exporter": "python",
   "pygments_lexer": "ipython3",
   "version": "3.5.2"
  }
 },
 "nbformat": 4,
 "nbformat_minor": 2
}
